{
 "cells": [
  {
   "cell_type": "markdown",
   "metadata": {},
   "source": [
    "# <img style=\"float: left; padding: 0px 10px 0px 0px;\" src=\"https://upload.wikimedia.org/wikipedia/commons/f/fc/UPC_logo_transparente.png\"  width=\"100\" /> Web Scrapping con Python\n",
    "**Profesor:** Enver G. Tarazona Vargas <br>\n",
    "**Curso:** Herramientas de Procesamiento de Grandes Volúmenes de Datos <br>\n",
    "**Escuela de Posgrado - Universidad Peruana de Ciencias Aplicadas**<br>\n",
    "\n",
    "---"
   ]
  },
  {
   "cell_type": "code",
   "execution_count": null,
   "metadata": {
    "colab": {
     "base_uri": "https://localhost:8080/"
    },
    "id": "hHAE6TCZTNjQ",
    "outputId": "62df18cb-7ed2-4737-9896-1d419d1c65bf"
   },
   "outputs": [],
   "source": [
    "# Instalar PySpark\n",
    "!pip install pyspark"
   ]
  },
  {
   "cell_type": "code",
   "execution_count": null,
   "metadata": {
    "colab": {
     "base_uri": "https://localhost:8080/",
     "height": 196
    },
    "id": "9_Y_nK7VUYae",
    "outputId": "8a52fad5-1b77-43f0-f316-774e2ab46687"
   },
   "outputs": [],
   "source": [
    "from pyspark.sql import SparkSession\n",
    "\n",
    "# Inicializar el contexto\n",
    "spark = SparkSession.builder.getOrCreate()\n",
    "\n",
    "sc = spark.sparkContext\n",
    "sc"
   ]
  },
  {
   "cell_type": "markdown",
   "metadata": {
    "id": "3R7ZjCYiU6O-"
   },
   "source": [
    "# Consumiendo datos semi estructurados de la web\n"
   ]
  },
  {
   "cell_type": "code",
   "execution_count": null,
   "metadata": {},
   "outputs": [],
   "source": [
    "import requests\n",
    "import json"
   ]
  },
  {
   "cell_type": "markdown",
   "metadata": {},
   "source": [
    "## Ejemplo 1: Obtener información de todas las razas de perros"
   ]
  },
  {
   "cell_type": "code",
   "execution_count": null,
   "metadata": {},
   "outputs": [],
   "source": [
    "url = \"https://dogapi.dog/api/v2/breeds\"\n",
    "\n",
    "response = requests.get(url)\n",
    "\n",
    "# data es un diccionario\n",
    "data_dict = json.loads(response.content)\n",
    "\n",
    "# Imprimir en formato amigable\n",
    "print(json.dumps(data_dict, indent=2))"
   ]
  },
  {
   "cell_type": "code",
   "execution_count": null,
   "metadata": {},
   "outputs": [],
   "source": [
    "print(data_dict[\"data\"][0])"
   ]
  },
  {
   "cell_type": "code",
   "execution_count": null,
   "metadata": {},
   "outputs": [],
   "source": [
    "print(data_dict[\"data\"][0][\"attributes\"][\"name\"])"
   ]
  },
  {
   "cell_type": "markdown",
   "metadata": {
    "id": "GUJYAv0cV8sM"
   },
   "source": [
    "## Ejemplo 2: Obtener información de una raza en particular"
   ]
  },
  {
   "cell_type": "code",
   "execution_count": null,
   "metadata": {
    "colab": {
     "base_uri": "https://localhost:8080/"
    },
    "id": "X69XM9mEUrRZ",
    "outputId": "053f2380-39ed-4479-e6a1-910d20e1cf0b"
   },
   "outputs": [],
   "source": [
    "breed_id = \"68f47c5a-5115-47cd-9849-e45d3c378f12\"\n",
    "url = f\"https://dogapi.dog/api/v2/breeds/{breed_id}\"\n",
    "\n",
    "response = requests.get(url)\n",
    "\n",
    "# data es un diccionario\n",
    "data_dict = json.loads(response.content)\n",
    "\n",
    "print(json.dumps(data_dict, indent=2))"
   ]
  },
  {
   "cell_type": "markdown",
   "metadata": {
    "id": "KImU-pKoW6kF"
   },
   "source": [
    "## Ejemplo 3: Acceder al enlace de una página"
   ]
  },
  {
   "cell_type": "code",
   "execution_count": null,
   "metadata": {},
   "outputs": [],
   "source": [
    "url = \"https://dogapi.dog/api/v2/breeds\"\n",
    "\n",
    "response = requests.get(url)\n",
    "\n",
    "# data es un diccionario\n",
    "data_dict = json.loads(response.content)\n",
    "next_url = data_dict[\"links\"][\"next\"]\n",
    "\n",
    "print(next_url)\n"
   ]
  },
  {
   "cell_type": "code",
   "execution_count": null,
   "metadata": {},
   "outputs": [],
   "source": [
    "response_2 = requests.get(next_url)\n",
    "\n",
    "# data es un diccionario\n",
    "data_dict_2 = json.loads(response_2.content)\n",
    "print(json.dumps(data_dict_2, indent=2))"
   ]
  },
  {
   "cell_type": "markdown",
   "metadata": {
    "id": "QcJY7l0VXd0F"
   },
   "source": [
    "**Ejercicio 2**:\n",
    "La gerencia de una cadena de supermercados ha solicitado a un analiista de datos un informe detallado sobre las ventas mensuales de varios productos para entender cuáles merecen una promoción. El objetivo es calcular el total de ventas por producto y aplicar un descuento del 5% a aquellos productos cuyas ventas superen los $100 en el mes, como parte de una estrategia para incentivar mayores ventas.\n",
    "\n",
    "Para ello, en el último mes, se recopiló la siguiente información sobre las ventas de productos:\n",
    "\n",
    "- Manzana: 150 unidades a $0.75 cada una.\n",
    "\n",
    "- Banana: 300 unidades a $0.30 cada una.\n",
    "\n",
    "- Naranja: 200 unidades a $0.50 cada una.\n",
    "\n",
    "- Pera: 50 unidades a $1.25 cada una.\n",
    "\n",
    "- Melón: 80 unidades a $3.50 cada una.\n",
    "\n",
    "A partir de estos datos, en dónde cada registro de venta está representado como una tupla que contiene el nombre del producto, la cantidad vendida y el precio por unidad, realiza las siguientes actividades:\n",
    "\n",
    "1. Construye un RDD con los datos de ventas que has preparado.\n",
    "2. Utiliza la transformación `map` para calcular el total de ventas por producto, multiplicando la cantidad vendida por el precio por unidad.\n",
    "3. Para los productos cuyo total de ventas exceda los $100, aplica un descuento del 5%.\n",
    "4. Genera un informe final mostrando el nombre del producto, las ventas totales originales y las ventas totales después del descuento, si aplicó.\n",
    "\n"
   ]
  },
  {
   "cell_type": "markdown",
   "metadata": {
    "id": "zOT9UU03dgiZ"
   },
   "source": [
    "# Scrap de HTML"
   ]
  },
  {
   "cell_type": "markdown",
   "metadata": {},
   "source": [
    "## Ejemplo 1"
   ]
  },
  {
   "cell_type": "code",
   "execution_count": null,
   "metadata": {
    "colab": {
     "base_uri": "https://localhost:8080/"
    },
    "id": "ZGVdZOToaut7",
    "outputId": "92363627-729d-4d53-ee9a-587ce9e3398c"
   },
   "outputs": [],
   "source": [
    "from bs4 import BeautifulSoup"
   ]
  },
  {
   "cell_type": "code",
   "execution_count": null,
   "metadata": {},
   "outputs": [],
   "source": [
    "# abrir el archivo HTML local\n",
    "with open(\"web_simple.html\",encoding=\"utf8\") as fp:\n",
    "    # crear un objeto BeautifulSoup con el contenido del archivo\n",
    "    soup = BeautifulSoup(fp, \"html.parser\")"
   ]
  },
  {
   "cell_type": "code",
   "execution_count": null,
   "metadata": {},
   "outputs": [],
   "source": [
    "# ahora puedes manipular el objeto \"soup\"\n",
    "# por ejemplo, puedes imprimir el contenido del archivo HTML\n",
    "print(soup.prettify())"
   ]
  },
  {
   "cell_type": "code",
   "execution_count": null,
   "metadata": {},
   "outputs": [],
   "source": [
    "# encontrar el primer tag <h1> en el archivo HTML e imprimir su texto\n",
    "h1_tag = soup.find(\"h1\")\n",
    "print(h1_tag.text)"
   ]
  },
  {
   "cell_type": "code",
   "execution_count": null,
   "metadata": {},
   "outputs": [],
   "source": [
    "# encontrar todos los tags <li> en el archivo HTML\n",
    "li_tags = soup.find_all(\"li\")\n",
    "for li_tag in li_tags:\n",
    "     print(li_tag.text)"
   ]
  },
  {
   "cell_type": "code",
   "execution_count": null,
   "metadata": {},
   "outputs": [],
   "source": [
    "# encontrar el primer tag <a> en el archivo HTML\n",
    "a_tag = soup.find(\"a\")\n",
    "print(a_tag[\"href\"])"
   ]
  },
  {
   "cell_type": "code",
   "execution_count": null,
   "metadata": {},
   "outputs": [],
   "source": [
    "# encontrar el tag con id \"fecha\" en el archivo HTML\n",
    "fecha_tag = soup.find(id=\"fecha\")\n",
    "print(fecha_tag.text)"
   ]
  },
  {
   "cell_type": "code",
   "execution_count": null,
   "metadata": {},
   "outputs": [],
   "source": [
    "# encontrar el tag con clase \"precipitaciones\" en el archivo HTML\n",
    "precipitaciones_tag = soup.find(class_=\"precipitaciones\")\n",
    "print(precipitaciones_tag.text)"
   ]
  },
  {
   "cell_type": "code",
   "execution_count": null,
   "metadata": {},
   "outputs": [],
   "source": [
    "# encontrar el tag <li> con clase \"precipitaciones\" en el archivo HTML\n",
    "li_tag = soup.find(\"li\", class_=\"precipitaciones\")\n",
    "print(li_tag.text)"
   ]
  },
  {
   "cell_type": "markdown",
   "metadata": {},
   "source": [
    "## Ejemplo 2"
   ]
  },
  {
   "cell_type": "code",
   "execution_count": null,
   "metadata": {},
   "outputs": [],
   "source": [
    "url = \"https://es.wikipedia.org/wiki/Bernardo_O%27Higgins\"\n",
    "page = requests.get(url)\n",
    "soup = BeautifulSoup(page.content, \"html.parser\")\n",
    "\n",
    "print(soup.prettify())"
   ]
  },
  {
   "cell_type": "code",
   "execution_count": null,
   "metadata": {},
   "outputs": [],
   "source": []
  }
 ],
 "metadata": {
  "colab": {
   "provenance": []
  },
  "kernelspec": {
   "display_name": "Python 3 (ipykernel)",
   "language": "python",
   "name": "python3"
  },
  "language_info": {
   "codemirror_mode": {
    "name": "ipython",
    "version": 3
   },
   "file_extension": ".py",
   "mimetype": "text/x-python",
   "name": "python",
   "nbconvert_exporter": "python",
   "pygments_lexer": "ipython3",
   "version": "3.11.5"
  }
 },
 "nbformat": 4,
 "nbformat_minor": 4
}
